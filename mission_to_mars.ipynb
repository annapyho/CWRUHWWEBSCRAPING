{
 "cells": [
  {
   "cell_type": "code",
   "execution_count": 17,
   "metadata": {},
   "outputs": [],
   "source": [
    "from splinter import Browser\n",
    "from bs4 import BeautifulSoup\n",
    "import pandas as pd"
   ]
  },
  {
   "cell_type": "code",
   "execution_count": 18,
   "metadata": {},
   "outputs": [],
   "source": [
    "def init_browser():\n",
    "    executable_path = {'executable_path': 'chromedriver.exe'}\n",
    "    return Browser(\"chrome\", **executable_path, headless=False)"
   ]
  },
  {
   "cell_type": "code",
   "execution_count": 19,
   "metadata": {},
   "outputs": [],
   "source": [
    "def scrape_info():\n",
    "    browser = init_browser()  \n",
    "    url = \"https://mars.nasa.gov/news/\"\n",
    "    browser.visit(url)\n",
    "    html = browser.html\n",
    "    soup = BeautifulSoup(html, 'html.parser')\n",
    "    results = soup.find_all('div', class_=\"content_title\")\n",
    "    news_title = results[0].text.strip()\n",
    "    results_p = soup.find_all('div', class_=\"article_teaser_body\")\n",
    "    news_p = results_p[0].text\n",
    "    browser.quit()\n",
    "\n",
    "    browser = init_browser()\n",
    "    url = 'https://www.jpl.nasa.gov/spaceimages/?search=&category=Mars'\n",
    "    browser.visit(url)\n",
    "    html = browser.html\n",
    "    soup = BeautifulSoup(html, 'html.parser')\n",
    "    results_f = soup.find_all(\"div\", class_=\"carousel_container\")\n",
    "    for result in results_f:\n",
    "        featured_image_link = result.a[\"data-fancybox-href\"]\n",
    "    featured_image_url = url.rsplit('/', 2)[0]+featured_image_link\n",
    "    browser.quit()\n",
    "\n",
    "    browser = init_browser() \n",
    "    url = \"https://twitter.com/marswxreport?lang=en\"\n",
    "    browser.visit(url)\n",
    "    html = browser.html\n",
    "    soup = BeautifulSoup(html, 'html.parser')\n",
    "    results = soup.find_all('div', class_=\"js-tweet-text-container\")\n",
    "    weather_twit = []\n",
    "    for result in results:\n",
    "        weather = result.find('p', class_=\"TweetTextSize TweetTextSize--normal js-tweet-text tweet-text\").text\n",
    "        weather_twit.append(weather)\n",
    "    mars_weather = weather_twit[0]\n",
    "    browser.quit()  \n",
    "\n",
    "    url = \"https://space-facts.com/mars/\"\n",
    "    mars_tables = pd.read_html(url)\n",
    "    mars_info = mars_tables[0]\n",
    "    mars_html = mars_info.to_csv(header=None,index=False)\n",
    "          \n",
    "    hemisphere_image_urls = []\n",
    "    hemisphere_image_urls.clear()\n",
    "    hemisphere_image_urls.append({\"title\": \"Valles Marineris Hemisphere\", \"img_url\": \"https://astrogeology.usgs.gov/cache/images/7cf2da4bf549ed01c17f206327be4db7_valles_marineris_enhanced.tif_full.jpg\"})\n",
    "    hemisphere_image_urls.append({\"title\": \"Cerberus Hemisphere\", \"img_url\": \"https://astrogeology.usgs.gov/cache/images/cfa62af2557222a02478f1fcd781d445_cerberus_enhanced.tif_full.jpg\"})\n",
    "    hemisphere_image_urls.append({\"title\": \"Schiaparelli Hemisphere\", \"img_url\": \"https://astrogeology.usgs.gov/cache/images/3cdd1cbf5e0813bba925c9030d13b62e_schiaparelli_enhanced.tif_full.jpg\"})\n",
    "    hemisphere_image_urls.append({\"title\": \"Syrtis Major Hemisphere\", \"img_url\": \"https://astrogeology.usgs.gov/cache/images/ae209b4e408bb6c3e67b6af38168cf28_syrtis_major_enhanced.tif_full.jpg\"})\n",
    "\n",
    "    mars_data = {\n",
    "      \"news_title\": news_title,\n",
    "      \"news_p\": news_p,\n",
    "      \"featured_image_url\": featured_image_url,\n",
    "      \"mars_weather\": mars_weather,\n",
    "      \"mars_html\": mars_html,\n",
    "      \"hemisphere_image_urls\": hemisphere_image_urls\n",
    "      } \n",
    "    return mars_data"
   ]
  },
  {
   "cell_type": "code",
   "execution_count": null,
   "metadata": {},
   "outputs": [],
   "source": []
  }
 ],
 "metadata": {
  "kernelspec": {
   "display_name": "Python 3",
   "language": "python",
   "name": "python3"
  },
  "language_info": {
   "codemirror_mode": {
    "name": "ipython",
    "version": 3
   },
   "file_extension": ".py",
   "mimetype": "text/x-python",
   "name": "python",
   "nbconvert_exporter": "python",
   "pygments_lexer": "ipython3",
   "version": "3.7.1"
  }
 },
 "nbformat": 4,
 "nbformat_minor": 2
}
